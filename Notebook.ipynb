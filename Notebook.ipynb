{
 "cells": [
  {
   "cell_type": "code",
   "execution_count": 52,
   "metadata": {},
   "outputs": [],
   "source": [
    "def construir_grafo_cursos(examenes):\n",
    "    calendario = Graph(len(list(examenes.keys())))\n",
    "    for e in calendario.vertices():\n",
    "        for e2 in calendario.vertices()[e + 1:]:\n",
    "            w = len(set(examenes[e]) & set(examenes[e2]))\n",
    "            if w:\n",
    "                calendario.add_edge((e, e2, w))\n",
    "    return calendario"
   ]
  },
  {
   "cell_type": "code",
   "execution_count": 53,
   "metadata": {},
   "outputs": [],
   "source": [
    "def iniciacion_limites_concurrencias(dias, slots, concurrencias_maximas):\n",
    "    limites_concurrencias = {}\n",
    "    for dia in range(dias):\n",
    "        for slot in range(slots):\n",
    "            limites_concurrencias[(dia, slot)] = concurrencias_maximas\n",
    "    return limites_concurrencias"
   ]
  },
  {
   "cell_type": "code",
   "execution_count": 54,
   "metadata": {},
   "outputs": [],
   "source": [
    "def obtener_primer_color(curso, dias, slots, limites_concurrencias, concurrencias):\n",
    "    color = (0, 0)  # Define un color como combinación de día y horario.\n",
    "    if limites_concurrencias[color] >= concurrencias[curso]:\n",
    "        # Verifica si el color tiene capacidad suficiente para este curso.\n",
    "        return color  # Devuelve el color válido encontrado.\n",
    "    return None  # Devuelve `None` si no hay colores válidos."
   ]
  },
  {
   "cell_type": "code",
   "execution_count": 55,
   "metadata": {},
   "outputs": [],
   "source": [
    "def obtener_menor_color_disponible(calendario, cursos, curso, colores, dias, slots, limites_concurrencias, concurrencias):\n",
    "    grados = calendario.degree()\n",
    "    matriz_pesos = calendario.weighted_adjacency_matrix()\n",
    "    lista_adyacencia = sorted(calendario.neighbors(curso), key=lambda node: (-grados[node], -max(matriz_pesos[node]), node))\n",
    "    for dia in range(dias):  # Itera sobre los días posibles.\n",
    "        for slot in range(slots):  # Itera sobre los horarios posibles.\n",
    "            color = (dia, slot)  # Define un color como combinación de día y horario.\n",
    "            if limites_concurrencias[color] >= concurrencias[curso]:\n",
    "                if not lista_adyacencia:\n",
    "                    return color\n",
    "                else:\n",
    "                    coloreados = [vecino for vecino in lista_adyacencia if vecino in colores]\n",
    "                    if all([colores[vecino] != color and \n",
    "                            es_valido(color, curso, vecino, colores, dias, cursos) for vecino in coloreados]):\n",
    "                        return color                    \n",
    "    return None\n",
    "                    "
   ]
  },
  {
   "cell_type": "code",
   "execution_count": 56,
   "metadata": {},
   "outputs": [],
   "source": [
    "def es_valido(color, curso, vecino, colores, dias, cursos):\n",
    "    dia_actual, slot_actual = color\n",
    "    estudiantes_curso = cursos[curso]\n",
    "    estudiantes_vecino = cursos[vecino]\n",
    "\n",
    "    # Restricción 1: No permitir exámenes consecutivos en el mismo día.\n",
    "    color_vecino = colores[vecino]\n",
    "    dia_vecino, slot_vecino = color_vecino\n",
    "    if dia_actual == dia_vecino and abs(slot_actual - slot_vecino) <= 1:\n",
    "        return False\n",
    "\n",
    "    # Restricción 2: No permitir más de dos exámenes al día por estudiante.                \n",
    "    colores_dias = {c : (dia, slot) for (c, (dia, slot)) in list(colores.items()) if dia == dia_actual and c != curso}\n",
    "    if colores_dias:\n",
    "        for estudiante in cursos[curso]:\n",
    "            coincidencias = 0\n",
    "            for c in colores_dias:\n",
    "                if estudiante in cursos[c]:\n",
    "                    coincidencias += 1\n",
    "                if coincidencias == 2:\n",
    "                    return False\n",
    "                \n",
    "    return True\n",
    "\n"
   ]
  },
  {
   "cell_type": "code",
   "execution_count": 57,
   "metadata": {},
   "outputs": [],
   "source": [
    "def algoritmo_coloracion_calendario(cursos, slots, dias, limites_concurrencias, concurrencia_maxima):\n",
    "    # Paso 1: Construcción del grafo\n",
    "    grafo = construir_grafo_cursos(cursos)\n",
    "    grados = grafo.degree()\n",
    "    matriz_pesos = grafo.weighted_adjacency_matrix()\n",
    "    \n",
    "            \n",
    "    \n",
    "    # Paso 2: Ordenar nodos\n",
    "    cursos_ordenados =  sorted(cursos, key=lambda node: (-grados[node], -max(matriz_pesos[node]), node))\n",
    "    # `cursos_ordenados` es una lista de los nodos ordenados por prioridad:\n",
    "    # 1. Mayor grado (número de conexiones).\n",
    "    # 2. Mayor peso en la lista de adyacencia.\n",
    "    # 3. Menor ID (en caso de empate).\n",
    "\n",
    "    # Variables iniciales\n",
    "    num_cursos_coloreados = 0  # Contador de cursos que ya tienen un color asignado.\n",
    "    colores = {}  # Diccionario que almacena el color asignado a cada curso.\n",
    "    limites_concurrencias = iniciacion_limites_concurrencias(dias, slots, concurrencia_maxima)\n",
    "    # `limites_concurrencias` define cuántas veces puede usarse un color (basado en los recursos disponibles).\n",
    "\n",
    "    # Paso 3: Asignar colores\n",
    "    cont = 0\n",
    "    for curso in cursos_ordenados:  # Itera sobre cada nodo del grafo (en orden de prioridad).\n",
    "        if curso not in colores:\n",
    "            if cont == 0:  # Si el curso aún no tiene color asignado.\n",
    "                color = obtener_primer_color(curso, dias, slots, limites_concurrencias, concurrencias)\n",
    "                # Intenta obtener el primer color disponible para el nodo.\n",
    "                if color is None:  # Si no hay colores válidos disponibles, no se puede programar.\n",
    "                    return \"No es posible programar\"\n",
    "                colores[curso] = color  # Asigna el color encontrado al curso.\n",
    "                num_cursos_coloreados += 1  # Incrementa el contador de cursos coloreados.\n",
    "                limites_concurrencias[color] -= concurrencias[curso]\n",
    "                cont += 1\n",
    "                # Reduce el límite de concurrencia del color, teniendo en cuenta los recursos usados por este curso.\n",
    "            else:\n",
    "                color = obtener_menor_color_disponible(\n",
    "                        grafo, cursos, curso, colores, dias, slots, limites_concurrencias, concurrencias)\n",
    "                if color is None:\n",
    "                      return \"No es posible programar\"\n",
    "                colores[curso] = color  # Asigna el color al nodo adyacente.\n",
    "                num_cursos_coloreados += 1  # Incrementa el contador de cursos coloreados.\n",
    "                limites_concurrencias[color] -= concurrencias[curso]\n",
    "\n",
    "            lista_adyacencia = sorted(grafo.neighbors(curso), key=lambda node: (-grados[node], -max(matriz_pesos[node]), node))\n",
    "            # `lista_adyacencia` contiene los cursos conectados al curso actual (nodos adyacentes).\n",
    "            for vecino in lista_adyacencia:  # Itera sobre los nodos adyacentes.\n",
    "                if vecino not in colores.keys():  # Si el nodo adyacente no está coloreado.\n",
    "                    color_vecino = obtener_menor_color_disponible(\n",
    "                         grafo, cursos, vecino, colores, dias, slots, limites_concurrencias, concurrencias)\n",
    "                    # Intenta obtener el color más pequeño disponible que respete las restricciones.\n",
    "                    if color_vecino:  # Si se encuentra un color válido.\n",
    "                        colores[vecino] = color_vecino  # Asigna el color al nodo adyacente.\n",
    "                        num_cursos_coloreados += 1  # Incrementa el contador de cursos coloreados.\n",
    "                        limites_concurrencias[color_vecino] -= concurrencias[vecino]\n",
    "                        # Reduce el límite de concurrencia para el color dado en función de los recursos usados.\n",
    "                    else:\n",
    "                        return \"No es posible programar\"\n",
    "    return colores  # Devuelve el diccionario con los colores asignados a cada curso."
   ]
  },
  {
   "cell_type": "code",
   "execution_count": 67,
   "metadata": {},
   "outputs": [
    {
     "name": "stdout",
     "output_type": "stream",
     "text": [
      "Cursos y estudiantes inscritos:\n",
      "0: ['Estudiante1', 'Estudiante2', 'Estudiante3', 'Estudiante6']\n",
      "1: ['Estudiante1', 'Estudiante4', 'Estudiante7']\n",
      "2: ['Estudiante3', 'Estudiante4', 'Estudiante8']\n",
      "3: ['Estudiante2', 'Estudiante8']\n",
      "4: ['Estudiante6']\n",
      "5: ['Estudiante7']\n",
      "\n",
      "Concurrencias:\n",
      "{0: 1, 1: 1, 2: 1, 3: 1, 4: 1, 5: 1}\n",
      "\n",
      "Parámetros:\n",
      "Slots: 6\n",
      "Días: 1\n",
      "Concurrencia máxima: 2\n",
      "{0: (0, 0), 1: (0, 2), 2: (0, 4), 3: (0, 2), 4: (0, 3), 5: (0, 0)}\n"
     ]
    }
   ],
   "source": [
    "num_estudiantes = 15\n",
    "estudiantes = [f\"Estudiante{i}\" for i in range(1, num_estudiantes + 1)]\n",
    "\n",
    "# Generar cursos y asignar estudiantes\n",
    "cursos = {\n",
    "    0: ['Estudiante1','Estudiante2','Estudiante3','Estudiante6'],\n",
    "    1: ['Estudiante1','Estudiante4','Estudiante7'],\n",
    "    2: ['Estudiante3','Estudiante4','Estudiante8'],\n",
    "    3: ['Estudiante2','Estudiante8'],\n",
    "    4: ['Estudiante6'],\n",
    "    5: ['Estudiante7']\n",
    "}\n",
    "\n",
    "# Parámetros generales\n",
    "slots = 6 # Horarios por día\n",
    "dias = 1  # Días disponibles\n",
    "concurrencia_maxima = 2  # Capacidad total por slot\n",
    "\n",
    "# Calcular concurrencias (número de estudiantes por curso)\n",
    "concurrencias = {curso: 1 for curso in cursos}\n",
    "\n",
    "# Imprimir datos generados\n",
    "print(\"Cursos y estudiantes inscritos:\")\n",
    "for curso, estudiantes in cursos.items():\n",
    "    print(f\"{curso}: {estudiantes}\")\n",
    "\n",
    "print(\"\\nConcurrencias:\")\n",
    "print(concurrencias)\n",
    "\n",
    "print(\"\\nParámetros:\")\n",
    "print(f\"Slots: {slots}\")\n",
    "print(f\"Días: {dias}\")\n",
    "print(f\"Concurrencia máxima: {concurrencia_maxima}\")\n",
    "\n",
    "resultado = algoritmo_coloracion_calendario(cursos,slots,dias,concurrencias,concurrencia_maxima)\n",
    "\n",
    "print(resultado)"
   ]
  },
  {
   "cell_type": "code",
   "execution_count": 68,
   "metadata": {},
   "outputs": [
    {
     "data": {
      "image/png": "[encoded data removed]",
      "text/plain": [
       "Graphics object consisting of 14 graphics primitives"
      ]
     },
     "execution_count": 68,
     "metadata": {},
     "output_type": "execute_result"
    }
   ],
   "source": [
    "calendario = construir_grafo_cursos(cursos)\n",
    "coloracion = {}\n",
    "particiones = sorted(list(set(resultado.values())), key = lambda r : (slots - 1) * r[1] + r[0]) # Ordena los colores por el peso \n",
    "colores_disponibles = rainbow(len(particiones))\n",
    "for (c, p) in zip(colores_disponibles, particiones):\n",
    "    coloracion[c] = [curso for curso in cursos if resultado[curso] == p]\n",
    "coloracion\n",
    "calendario.plot(vertex_colors = coloracion)"
   ]
  },
  {
   "cell_type": "code",
   "execution_count": null,
   "metadata": {},
   "outputs": [],
   "source": []
  },
  {
   "cell_type": "code",
   "execution_count": null,
   "metadata": {},
   "outputs": [],
   "source": []
  }
 ],
 "metadata": {
  "kernelspec": {
   "display_name": "SageMath 9.3",
   "language": "sage",
   "name": "sagemath"
  },
  "language_info": {
   "codemirror_mode": {
    "name": "ipython",
    "version": 3
   },
   "file_extension": ".py",
   "mimetype": "text/x-python",
   "name": "python",
   "nbconvert_exporter": "python",
   "pygments_lexer": "ipython3",
   "version": "3.7.10"
  }
 },
 "nbformat": 4,
 "nbformat_minor": 4
}
